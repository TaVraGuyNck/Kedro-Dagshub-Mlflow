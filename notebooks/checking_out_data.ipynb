{
 "cells": [
  {
   "cell_type": "code",
   "execution_count": 20,
   "id": "aaa02502",
   "metadata": {},
   "outputs": [
    {
     "name": "stdout",
     "output_type": "stream",
     "text": [
      "       totalCost  totalCostzero  ecMaxContribution  duration  contRatio  \\\n",
      "13480  1984800.0              0         1984800.00      1826        1.0   \n",
      "11742  1998885.0              0         1998885.00      1826        1.0   \n",
      "1106         0.0              1          265647.84      1217        NaN   \n",
      "4097         0.0              1          172750.08       729        NaN   \n",
      "6834         0.0              1          172750.08       730        NaN   \n",
      "\n",
      "       numberOrg  pillar_encoded  country_AT  country_BE  country_DE  \\\n",
      "13480          1               2       False       False        True   \n",
      "11742          1               2       False       False       False   \n",
      "1106           2               3       False       False        True   \n",
      "4097           2               3       False       False       False   \n",
      "6834           1               3       False       False       False   \n",
      "\n",
      "       country_DK  country_ES  country_FR  country_IT  country_NL  country_NO  \\\n",
      "13480       False       False       False       False       False       False   \n",
      "11742       False       False       False       False       False       False   \n",
      "1106        False       False       False       False       False       False   \n",
      "4097        False       False       False        True       False       False   \n",
      "6834        False       False       False        True       False       False   \n",
      "\n",
      "       country_Other  country_SE  \n",
      "13480          False       False  \n",
      "11742           True       False  \n",
      "1106           False       False  \n",
      "4097           False       False  \n",
      "6834           False       False  \n"
     ]
    }
   ],
   "source": [
    "import pandas as pd\n",
    "\n",
    "df = pd.read_parquet('/workspaces/Kedro-Dagshub-Mlflow/data/05_model_input/xgb_X_test.parquet')\n",
    "print(df.head())"
   ]
  },
  {
   "cell_type": "code",
   "execution_count": 24,
   "id": "5be5f2ec",
   "metadata": {},
   "outputs": [
    {
     "name": "stdout",
     "output_type": "stream",
     "text": [
      "{\n",
      "  index: 13263\n",
      "  totalCost: 2499785.0\n",
      "  totalCostzero: 0\n",
      "  ecMaxContribution: 2499785.0\n",
      "  duration: 1826\n",
      "  contRatio: 1.0\n",
      "  numberOrg: 1\n",
      "  pillar_encoded: 2\n",
      "  countries_true: ['country_DE']\n",
      "}\n",
      "\n",
      "{\n",
      "  index: 11619\n",
      "  totalCost: 0.0\n",
      "  totalCostzero: 1\n",
      "  ecMaxContribution: 150000.0\n",
      "  duration: 547\n",
      "  contRatio: nan\n",
      "  numberOrg: 1\n",
      "  pillar_encoded: 2\n",
      "  countries_true: ['country_DK']\n",
      "}\n",
      "\n",
      "{\n",
      "  index: 15476\n",
      "  totalCost: 1499849.0\n",
      "  totalCostzero: 0\n",
      "  ecMaxContribution: 1499849.0\n",
      "  duration: 1825\n",
      "  contRatio: 1.0\n",
      "  numberOrg: 1\n",
      "  pillar_encoded: 2\n",
      "  countries_true: ['country_FR']\n",
      "}\n",
      "\n",
      "{\n",
      "  index: 1993\n",
      "  totalCost: 0.0\n",
      "  totalCostzero: 1\n",
      "  ecMaxContribution: 173847.36\n",
      "  duration: 729\n",
      "  contRatio: nan\n",
      "  numberOrg: 1\n",
      "  pillar_encoded: 3\n",
      "  countries_true: ['country_DE']\n",
      "}\n",
      "\n",
      "{\n",
      "  index: 14163\n",
      "  totalCost: 0.0\n",
      "  totalCostzero: 1\n",
      "  ecMaxContribution: 150000.0\n",
      "  duration: 546\n",
      "  contRatio: nan\n",
      "  numberOrg: 1\n",
      "  pillar_encoded: 2\n",
      "  countries_true: ['country_BE']\n",
      "}\n",
      "\n",
      "[{'index': 13263, 'totalCost': 2499785.0, 'totalCostzero': 0, 'ecMaxContribution': 2499785.0, 'duration': 1826, 'contRatio': 1.0, 'numberOrg': 1, 'pillar_encoded': 2, 'countries_true': ['country_DE']}, {'index': 11619, 'totalCost': 0.0, 'totalCostzero': 1, 'ecMaxContribution': 150000.0, 'duration': 547, 'contRatio': nan, 'numberOrg': 1, 'pillar_encoded': 2, 'countries_true': ['country_DK']}, {'index': 15476, 'totalCost': 1499849.0, 'totalCostzero': 0, 'ecMaxContribution': 1499849.0, 'duration': 1825, 'contRatio': 1.0, 'numberOrg': 1, 'pillar_encoded': 2, 'countries_true': ['country_FR']}, {'index': 1993, 'totalCost': 0.0, 'totalCostzero': 1, 'ecMaxContribution': 173847.36, 'duration': 729, 'contRatio': nan, 'numberOrg': 1, 'pillar_encoded': 3, 'countries_true': ['country_DE']}, {'index': 14163, 'totalCost': 0.0, 'totalCostzero': 1, 'ecMaxContribution': 150000.0, 'duration': 546, 'contRatio': nan, 'numberOrg': 1, 'pillar_encoded': 2, 'countries_true': ['country_BE']}]\n"
     ]
    }
   ],
   "source": [
    "\n",
    "\n",
    "# Sample 5 random rows\n",
    "sampled = df.sample(5)\n",
    "\n",
    "def clean_row_dict(row):\n",
    "    # Start with the index\n",
    "    row_dict = {\"index\": row.name}  # row.name is the index\n",
    "    \n",
    "    # Include all columns except country columns first\n",
    "    non_country_cols = {k: v for k, v in row.items() if not k.startswith(\"country_\")}  \n",
    "    \n",
    "    # Find country columns where value is True\n",
    "    country_true = [k for k, v in row.items() if k.startswith(\"country_\") and v == True]\n",
    "    \n",
    "    # Add non-country columns\n",
    "    row_dict.update(non_country_cols)\n",
    "    # Add countries with True as a list or string\n",
    "    row_dict[\"countries_true\"] = country_true\n",
    "    \n",
    "    return row_dict\n",
    "\n",
    "# Apply to each sampled row and get list of clean dicts\n",
    "clean_dicts = [clean_row_dict(row) for _, row in sampled.iterrows()]\n",
    "\n",
    "for d in clean_dicts:\n",
    "    print(\"{\")\n",
    "    for k, v in d.items():\n",
    "        print(f\"  {k}: {v}\")\n",
    "    print(\"}\\n\")\n",
    "\n",
    "print(clean_dicts)\n"
   ]
  },
  {
   "cell_type": "code",
   "execution_count": 29,
   "id": "5c67fe45",
   "metadata": {},
   "outputs": [
    {
     "name": "stdout",
     "output_type": "stream",
     "text": [
      "No matching record for index 13263\n"
     ]
    }
   ],
   "source": [
    "idx = 13263  # replace with actual index value\n",
    "json_df = pd.read_json('/workspaces/Kedro-Dagshub-Mlflow/data/01_raw/organization.json')\n",
    "\n",
    "if not row.empty:\n",
    "    projectID= row.iloc[0]['projectID']\n",
    "    print(f\"projectID:\", projectID)\n",
    "else:\n",
    "    print(f\"No matching record for index {idx}\")\n"
   ]
  },
  {
   "cell_type": "code",
   "execution_count": 27,
   "id": "6d59d906",
   "metadata": {},
   "outputs": [
    {
     "name": "stdout",
     "output_type": "stream",
     "text": [
      "['SME', 'active', 'activityType', 'city', 'contactForm', 'contentUpdateDate', 'country', 'ecContribution', 'endOfParticipation', 'geolocation', 'name', 'netEcContribution', 'nutsCode', 'order', 'organisationID', 'organizationURL', 'postCode', 'projectAcronym', 'projectID', 'rcn', 'role', 'shortName', 'street', 'totalCost', 'vatNumber']\n"
     ]
    }
   ],
   "source": [
    "import pandas as pd\n",
    "\n",
    "df = pd.read_json('/workspaces/Kedro-Dagshub-Mlflow/data/01_raw/organization.json')\n",
    "\n",
    "print(df.columns.tolist())"
   ]
  },
  {
   "cell_type": "code",
   "execution_count": null,
   "id": "a6eabf56",
   "metadata": {},
   "outputs": [],
   "source": [
    "row = json_df[json_df['id'] == idx]\n",
    "\n",
    "json_df = pd.read_json('/workspaces/Kedro-Dagshub-Mlflow/data/01_raw/project.json')\n",
    "\n",
    "if not row.empty:\n",
    "    start_date = row.iloc[0]['startDate']\n",
    "    end_date = row.iloc[0]['endDate']\n",
    "    print(f\"startDate: {start_date}, endDate: {end_date}\")\n",
    "else:\n",
    "    print(f\"No matching record for index {idx}\")"
   ]
  },
  {
   "cell_type": "code",
   "execution_count": 31,
   "id": "204f36d4",
   "metadata": {},
   "outputs": [
    {
     "name": "stdout",
     "output_type": "stream",
     "text": [
      "Original pillar: Pillar 1 - European Research Council (ERC)\n"
     ]
    }
   ],
   "source": [
    "import joblib\n",
    "\n",
    "# Load the label encoder\n",
    "le_pillar = joblib.load('/workspaces/Kedro-Dagshub-Mlflow/data/06_models/encoders/pillar_encoder.pkl')\n",
    "\n",
    "encoded_val = 2\n",
    "original_pillar = le_pillar.inverse_transform([encoded_val])[0]\n",
    "\n",
    "print(\"Original pillar:\", original_pillar)"
   ]
  }
 ],
 "metadata": {
  "kernelspec": {
   "display_name": "Python 3",
   "language": "python",
   "name": "python3"
  },
  "language_info": {
   "codemirror_mode": {
    "name": "ipython",
    "version": 3
   },
   "file_extension": ".py",
   "mimetype": "text/x-python",
   "name": "python",
   "nbconvert_exporter": "python",
   "pygments_lexer": "ipython3",
   "version": "3.9.22"
  }
 },
 "nbformat": 4,
 "nbformat_minor": 5
}
