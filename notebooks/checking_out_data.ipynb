{
 "cells": [
  {
   "cell_type": "code",
   "execution_count": null,
   "id": "aaa02502",
   "metadata": {},
   "outputs": [],
   "source": [
    "import pandas as pd\n",
    "\n",
    "df = pd.read_parquet('/workspaces/Kedro-Dagshub-Mlflow/data/05_model_input/xgb_X_test.parquet')\n",
    "print(df.head())"
   ]
  },
  {
   "cell_type": "code",
   "execution_count": null,
   "id": "5be5f2ec",
   "metadata": {},
   "outputs": [],
   "source": [
    "\n",
    "\n",
    "# Sample 5 random rows\n",
    "sampled = df.sample(5)\n",
    "\n",
    "def clean_row_dict(row):\n",
    "    # Start with the index\n",
    "    row_dict = {\"index\": row.name}  # row.name is the index\n",
    "    \n",
    "    # Include all columns except country columns first\n",
    "    non_country_cols = {k: v for k, v in row.items() if not k.startswith(\"country_\")}  \n",
    "    \n",
    "    # Find country columns where value is True\n",
    "    country_true = [k for k, v in row.items() if k.startswith(\"country_\") and v == True]\n",
    "    \n",
    "    # Add non-country columns\n",
    "    row_dict.update(non_country_cols)\n",
    "    # Add countries with True as a list or string\n",
    "    row_dict[\"countries_true\"] = country_true\n",
    "    \n",
    "    return row_dict\n",
    "\n",
    "# Apply to each sampled row and get list of clean dicts\n",
    "clean_dicts = [clean_row_dict(row) for _, row in sampled.iterrows()]\n",
    "\n",
    "for d in clean_dicts:\n",
    "    print(\"{\")\n",
    "    for k, v in d.items():\n",
    "        print(f\"  {k}: {v}\")\n",
    "    print(\"}\\n\")\n",
    "\n",
    "print(clean_dicts)\n"
   ]
  },
  {
   "cell_type": "code",
   "execution_count": null,
   "id": "028febb8",
   "metadata": {},
   "outputs": [],
   "source": []
  },
  {
   "cell_type": "code",
   "execution_count": null,
   "id": "5c67fe45",
   "metadata": {},
   "outputs": [],
   "source": [
    "idx = 13263  # replace with actual index value\n",
    "json_df = pd.read_json('/workspaces/Kedro-Dagshub-Mlflow/data/01_raw/organization.json')\n",
    "\n",
    "if not row.empty:\n",
    "    projectID= row.iloc[0]['projectID']\n",
    "    print(f\"projectID:\", projectID)\n",
    "else:\n",
    "    print(f\"No matching record for index {idx}\")\n"
   ]
  },
  {
   "cell_type": "code",
   "execution_count": null,
   "id": "6d59d906",
   "metadata": {},
   "outputs": [],
   "source": [
    "import pandas as pd\n",
    "\n",
    "df = pd.read_json('/workspaces/Kedro-Dagshub-Mlflow/data/01_raw/organization.json')\n",
    "\n",
    "print(df.columns.tolist())"
   ]
  },
  {
   "cell_type": "code",
   "execution_count": null,
   "id": "a6eabf56",
   "metadata": {},
   "outputs": [],
   "source": [
    "row = json_df[json_df['id'] == idx]\n",
    "\n",
    "json_df = pd.read_json('/workspaces/Kedro-Dagshub-Mlflow/data/01_raw/project.json')\n",
    "\n",
    "if not row.empty:\n",
    "    start_date = row.iloc[0]['startDate']\n",
    "    end_date = row.iloc[0]['endDate']\n",
    "    print(f\"startDate: {start_date}, endDate: {end_date}\")\n",
    "else:\n",
    "    print(f\"No matching record for index {idx}\")"
   ]
  },
  {
   "cell_type": "code",
   "execution_count": null,
   "id": "4502b572",
   "metadata": {},
   "outputs": [],
   "source": [
    "json_df = pd.read_json('/workspaces/Kedro-Dagshub-Mlflow/data/01_raw/project.json')"
   ]
  },
  {
   "cell_type": "code",
   "execution_count": null,
   "id": "7f7e6027",
   "metadata": {},
   "outputs": [],
   "source": []
  },
  {
   "cell_type": "code",
   "execution_count": null,
   "id": "204f36d4",
   "metadata": {},
   "outputs": [],
   "source": [
    "import joblib\n",
    "\n",
    "# Load the label encoder\n",
    "le_pillar = joblib.load('/workspaces/Kedro-Dagshub-Mlflow/data/06_models/encoders/pillar_encoder.pkl')\n",
    "\n",
    "encoded_val = 2\n",
    "original_pillar = le_pillar.inverse_transform([encoded_val])[0]\n",
    "\n",
    "print(\"Original pillar:\", original_pillar)"
   ]
  },
  {
   "cell_type": "code",
   "execution_count": 6,
   "id": "7b222ac1",
   "metadata": {},
   "outputs": [
    {
     "name": "stdout",
     "output_type": "stream",
     "text": [
      "Unique fundingScheme values:\n",
      "HORIZON-EIC\n",
      "HORIZON-RIA\n",
      "HORIZON-EIC-ACC-BF\n",
      "HORIZON-CSA\n",
      "HORIZON-IA\n",
      "HORIZON-JU-CSA\n",
      "HORIZON-COFUND\n",
      "HORIZON-EIC-ACC\n",
      "HORIZON-TMA-MSCA-PF-EF\n",
      "HORIZON-JU-RIA\n",
      "HORIZON-JU-IA\n",
      "EURATOM-RIA\n",
      "HORIZON-TMA-MSCA-PF-GF\n",
      "HORIZON-TMA-MSCA-DN\n",
      "HORIZON-TMA-MSCA-SE\n",
      "HORIZON-TMA-MSCA-Cofund-P\n",
      "MSCA-PF\n",
      "HORIZON-TMA-MSCA-Cofund-D\n",
      "HORIZON-TMA-MSCA-DN-JD\n",
      "HORIZON-TMA-MSCA-DN-ID\n",
      "EURATOM-IA\n",
      "EURATOM-CSA\n",
      "RIA\n",
      "HORIZON-AG\n",
      "CSA\n",
      "HORIZON-AG-UN\n",
      "HORIZON-ERC-POC\n",
      "HORIZON-ERC\n",
      "EIC\n",
      "HORIZON-EIT-KIC\n",
      "HORIZON-PCP\n",
      "HORIZON-ERC-SYG\n",
      "EURATOM-COFUND\n",
      "ERC\n",
      "HORIZON-AG-LS\n",
      "ERC-POC\n"
     ]
    }
   ],
   "source": [
    "import pandas as pd\n",
    "project_raw_path = '/workspaces/Kedro-Dagshub-Mlflow/data/01_raw/project.json'\n",
    "\n",
    "# Load JSON into DataFrame\n",
    "project_df = pd.read_json(project_raw_path)\n",
    "\n",
    "# Get unique values of 'fundingScheme'\n",
    "unique_funding_schemes = project_df['fundingScheme'].dropna().unique()\n",
    "\n",
    "# Print the unique funding schemes\n",
    "print(\"Unique fundingScheme values:\")\n",
    "for val in unique_funding_schemes:\n",
    "    print(val)"
   ]
  }
 ],
 "metadata": {
  "kernelspec": {
   "display_name": "Python 3",
   "language": "python",
   "name": "python3"
  },
  "language_info": {
   "codemirror_mode": {
    "name": "ipython",
    "version": 3
   },
   "file_extension": ".py",
   "mimetype": "text/x-python",
   "name": "python",
   "nbconvert_exporter": "python",
   "pygments_lexer": "ipython3",
   "version": "3.9.22"
  }
 },
 "nbformat": 4,
 "nbformat_minor": 5
}
